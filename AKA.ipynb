{
  "nbformat": 4,
  "nbformat_minor": 0,
  "metadata": {
    "colab": {
      "provenance": [],
      "authorship_tag": "ABX9TyOiRHpWtXijG+zZfq7JT+fU",
      "include_colab_link": true
    },
    "kernelspec": {
      "name": "python3",
      "display_name": "Python 3"
    },
    "language_info": {
      "name": "python"
    }
  },
  "cells": [
    {
      "cell_type": "markdown",
      "metadata": {
        "id": "view-in-github",
        "colab_type": "text"
      },
      "source": [
        "<a href=\"https://colab.research.google.com/github/RifkaASwasthi/Tugas-Besar-AKA/blob/main/AKA.ipynb\" target=\"_parent\"><img src=\"https://colab.research.google.com/assets/colab-badge.svg\" alt=\"Open In Colab\"/></a>"
      ]
    },
    {
      "cell_type": "markdown",
      "source": [
        "### Analisis kompleksitas algoritma dalam Pencarian Produk di Marketplace Online menggunakan Binary Search.\n",
        "\n",
        "Rifka Annisa Swasthi (2311110040)\n",
        "\n",
        "Avrilia Viananda Nagita (2311110010)"
      ],
      "metadata": {
        "id": "Ci7UMvCO-JUV"
      }
    },
    {
      "cell_type": "markdown",
      "source": [
        "### 1. Tentukan 1 algoritma (dalam 2 versi, yaitu iteratif dan rekursif) untuk menyelesaikan permasalahan tersebut. Penentuan algoritma ini harus didasarkan atas alasan yang relevan dengan studi kasus permasalahan yang ditentukan pada nomor 1."
      ],
      "metadata": {
        "id": "gOBzMFrxF5nD"
      }
    },
    {
      "cell_type": "markdown",
      "source": [
        "Binary Search adalah algoritma pencarian yang digunakan untuk menemukan elemen dalam daftar yang sudah terurut. Algoritma ini bekerja dengan cara membagi dua bagian data secara berulang-ulang dan membandingkan elemen yang dicari dengan elemen tengah di setiap iterasi. Jika elemen yang dicari lebih kecil atau lebih besar dari elemen tengah, algoritma akan mempersempit pencarian ke separuh bagian data yang relevan.\n",
        "\n",
        "Mengapa Memilih Binary Search?\n",
        "\n",
        "a) Efisien pada Data Terurut: Binary Search adalah algoritma yang sangat efisien untuk pencarian dalam data yang sudah terurut. Banyak marketplace online yang memiliki daftar produk terurut berdasarkan nama, harga, atau kategori, sehingga Binary Search sangat cocok untuk digunakan di situasi ini.\n",
        "\n",
        "b) Kompleksitas Waktu yang Baik: Binary Search memiliki kompleksitas waktu O(log n), yang jauh lebih efisien dibandingkan dengan pencarian linear (dengan kompleksitas O(n)) dalam daftar yang tidak terurut.\n",
        "\n",
        "c) Waktu Eksekusi yang Cepat: Untuk dataset besar, Binary Search jauh lebih cepat dibandingkan dengan metode pencarian lain yang harus memeriksa setiap elemen secara berurutan."
      ],
      "metadata": {
        "id": "2SLvGEPwGrbC"
      }
    },
    {
      "cell_type": "code",
      "execution_count": null,
      "metadata": {
        "id": "MBNlw77X71Sn"
      },
      "outputs": [],
      "source": [
        "import pandas as pd\n",
        "import numpy as np\n",
        "import matplotlib.pyplot as plt\n",
        "import seaborn as sns\n",
        "import time\n"
      ]
    },
    {
      "cell_type": "code",
      "source": [
        "data = pd.read_csv('/content/data_barang_supermarket_separated.csv')"
      ],
      "metadata": {
        "id": "_W40RPBJ9St8"
      },
      "execution_count": null,
      "outputs": []
    },
    {
      "cell_type": "code",
      "source": [
        "print(data)"
      ],
      "metadata": {
        "colab": {
          "base_uri": "https://localhost:8080/"
        },
        "id": "crt7udwh9jSQ",
        "outputId": "e584f547-65c3-49e2-cccd-dbb95593abe1"
      },
      "execution_count": null,
      "outputs": [
        {
          "output_type": "stream",
          "name": "stdout",
          "text": [
            "      No     Nama Barang  Harga (Rp) Ukuran\n",
            "0      1   Beras Premium       65000    5kg\n",
            "1      2   Minyak Goreng       28000     2L\n",
            "2      3      Gula Pasir       13000    1kg\n",
            "3      4   Tepung Terigu       10000    1kg\n",
            "4      5     Kopi Instan       35000   200g\n",
            "..   ...             ...         ...    ...\n",
            "145  146      Roti Tawar       17000   400g\n",
            "146  147  Biskuit Kaleng       10000   500g\n",
            "147  148  Cokelat Batang        8000   100g\n",
            "148  149    Minuman Soda       14000     1L\n",
            "149  150     Air Mineral        5000   1.5L\n",
            "\n",
            "[150 rows x 4 columns]\n"
          ]
        }
      ]
    },
    {
      "cell_type": "code",
      "source": [
        "data.info()"
      ],
      "metadata": {
        "colab": {
          "base_uri": "https://localhost:8080/"
        },
        "id": "aBMN8umf9kI-",
        "outputId": "50ed6114-6771-4abc-ec09-3349aaed493c"
      },
      "execution_count": null,
      "outputs": [
        {
          "output_type": "stream",
          "name": "stdout",
          "text": [
            "<class 'pandas.core.frame.DataFrame'>\n",
            "RangeIndex: 150 entries, 0 to 149\n",
            "Data columns (total 4 columns):\n",
            " #   Column       Non-Null Count  Dtype \n",
            "---  ------       --------------  ----- \n",
            " 0   No           150 non-null    int64 \n",
            " 1   Nama Barang  150 non-null    object\n",
            " 2   Harga (Rp)   150 non-null    int64 \n",
            " 3   Ukuran       146 non-null    object\n",
            "dtypes: int64(2), object(2)\n",
            "memory usage: 4.8+ KB\n"
          ]
        }
      ]
    },
    {
      "cell_type": "code",
      "source": [
        "data.isnull().sum() #Memeriksa data apakah ada yang null atau tidak"
      ],
      "metadata": {
        "colab": {
          "base_uri": "https://localhost:8080/",
          "height": 209
        },
        "id": "Lo4Q7UXX9nQV",
        "outputId": "da8b5210-9a0c-4596-95e3-e125d4ebe3d5"
      },
      "execution_count": null,
      "outputs": [
        {
          "output_type": "execute_result",
          "data": {
            "text/plain": [
              "No             0\n",
              "Nama Barang    0\n",
              "Harga (Rp)     0\n",
              "Ukuran         4\n",
              "dtype: int64"
            ],
            "text/html": [
              "<div>\n",
              "<style scoped>\n",
              "    .dataframe tbody tr th:only-of-type {\n",
              "        vertical-align: middle;\n",
              "    }\n",
              "\n",
              "    .dataframe tbody tr th {\n",
              "        vertical-align: top;\n",
              "    }\n",
              "\n",
              "    .dataframe thead th {\n",
              "        text-align: right;\n",
              "    }\n",
              "</style>\n",
              "<table border=\"1\" class=\"dataframe\">\n",
              "  <thead>\n",
              "    <tr style=\"text-align: right;\">\n",
              "      <th></th>\n",
              "      <th>0</th>\n",
              "    </tr>\n",
              "  </thead>\n",
              "  <tbody>\n",
              "    <tr>\n",
              "      <th>No</th>\n",
              "      <td>0</td>\n",
              "    </tr>\n",
              "    <tr>\n",
              "      <th>Nama Barang</th>\n",
              "      <td>0</td>\n",
              "    </tr>\n",
              "    <tr>\n",
              "      <th>Harga (Rp)</th>\n",
              "      <td>0</td>\n",
              "    </tr>\n",
              "    <tr>\n",
              "      <th>Ukuran</th>\n",
              "      <td>4</td>\n",
              "    </tr>\n",
              "  </tbody>\n",
              "</table>\n",
              "</div><br><label><b>dtype:</b> int64</label>"
            ]
          },
          "metadata": {},
          "execution_count": 26
        }
      ]
    },
    {
      "cell_type": "code",
      "source": [
        "data_cleaned = data.dropna(subset=['Ukuran']) #Karena data Ukuran ada yang null 4, maka data akan dibersihkan dengan dihapus.\n"
      ],
      "metadata": {
        "id": "TbnvQw0PFZDJ"
      },
      "execution_count": null,
      "outputs": []
    },
    {
      "cell_type": "code",
      "source": [
        "data.duplicated().sum() #Mmeriksa apakah data ada yang double atau tidak"
      ],
      "metadata": {
        "colab": {
          "base_uri": "https://localhost:8080/"
        },
        "id": "rCk1yFcR9uOg",
        "outputId": "4792a789-7662-45ba-f00c-2c1aef071c64"
      },
      "execution_count": null,
      "outputs": [
        {
          "output_type": "execute_result",
          "data": {
            "text/plain": [
              "0"
            ]
          },
          "metadata": {},
          "execution_count": 28
        }
      ]
    },
    {
      "cell_type": "code",
      "source": [
        "np.random.seed(42)\n"
      ],
      "metadata": {
        "id": "m-x-eaHXlaS4"
      },
      "execution_count": null,
      "outputs": []
    },
    {
      "cell_type": "code",
      "source": [
        "data = data.sample(frac=1, random_state=42).reset_index(drop=True)\n"
      ],
      "metadata": {
        "id": "-JjIrlpplfNh"
      },
      "execution_count": null,
      "outputs": []
    },
    {
      "cell_type": "markdown",
      "source": [
        "### 2. Analisis efisiensi dari algoritma-algoritma yang diterapkan, dengan menentukan kelas kompleksitas waktunya, serta dengan menganalisis running time dari kedua program yang telah dibuat dalam berbagai macam ukuran masukan (misalkan ukuran masukan 1, 10, 20,..., 10000) dan gambarkan grafiknya, serta tentukan kelas kompleksitas masing-masing algoritma tersebut."
      ],
      "metadata": {
        "id": "fqrMgR8jGJ8L"
      }
    },
    {
      "cell_type": "code",
      "source": [
        "import time\n",
        "import pandas as pd\n",
        "import matplotlib.pyplot as plt\n",
        "\n",
        "# Sort the \"Nama Barang\"\n",
        "sorted_data = data.sort_values(by=\"Nama Barang\").reset_index(drop=True)\n",
        "sorted_names = sorted_data[\"Nama Barang\"].tolist()\n",
        "\n",
        "# Binary Search Iterative Version\n",
        "def binary_search_iterative(data, key):\n",
        "    low, high = 0, len(data) - 1\n",
        "    while low <= high:\n",
        "        mid = (low + high) // 2\n",
        "        if data[mid] == key:\n",
        "            return mid\n",
        "        elif data[mid] < key:\n",
        "            low = mid + 1\n",
        "        else:\n",
        "            high = mid - 1\n",
        "    return -1\n",
        "\n",
        "# Binary Search Recursive Version\n",
        "def binary_search_recursive(data, key, low, high):\n",
        "    if low > high:\n",
        "        return -1\n",
        "    mid = (low + high) // 2\n",
        "    if data[mid] == key:\n",
        "        return mid\n",
        "    elif data[mid] < key:\n",
        "        return binary_search_recursive(data, key, mid + 1, high)\n",
        "    else:\n",
        "        return binary_search_recursive(data, key, low, mid - 1)\n",
        "\n",
        "# Function to analyze runtime for varying input sizes\n",
        "def analyze_runtime(sorted_names, search_key):\n",
        "    input_sizes = [10, 100, 500, 1000, 5000, len(sorted_names)]\n",
        "    iter_times = []\n",
        "    recur_times = []\n",
        "\n",
        "    for size in input_sizes:\n",
        "        subset = sorted_names[:size]\n",
        "\n",
        "        # Iterative runtime\n",
        "        start_iter = time.time()\n",
        "        binary_search_iterative(subset, search_key)\n",
        "        end_iter = time.time()\n",
        "        iter_times.append(end_iter - start_iter)\n",
        "\n",
        "        # Recursive runtime\n",
        "        start_recur = time.time()\n",
        "        binary_search_recursive(subset, search_key, 0, len(subset) - 1)\n",
        "        end_recur = time.time()\n",
        "        recur_times.append(end_recur - start_recur)\n",
        "\n",
        "    return input_sizes, iter_times, recur_times\n",
        "\n",
        "# Fungsi untuk mencetak tabel waktu eksekusi\n",
        "def print_execution_time_table(sizes, iterative_times, recursive_times):\n",
        "    df = pd.DataFrame({\n",
        "        'Ukuran Data': sizes,\n",
        "        'Iterative (detik)': iterative_times,\n",
        "        'Recursive (detik)': recursive_times\n",
        "    })\n",
        "    print(df)\n",
        "\n",
        "# Analyze and collect runtime data\n",
        "search_key = \"Air Mineral\"  # Nama barang yang dicari\n",
        "input_sizes, iter_times, recur_times = analyze_runtime(sorted_names, search_key)\n",
        "\n",
        "# Print the execution time table\n",
        "print_execution_time_table(input_sizes, iter_times, recur_times)\n",
        "\n",
        "# Menambahkan informasi kelas kompleksitas\n",
        "print(\"\\nKelas Kompleksitas:\")\n",
        "print(\"1. Pencarian Biner Iteratif: O(log n)\")\n",
        "print(\"2. Pencarian Biner Rekursif: O(log n)\")\n",
        "\n",
        "# Plotting results\n",
        "plt.figure(figsize=(10, 6))\n",
        "plt.plot(input_sizes, iter_times, marker='o', label='Iterative Binary Search')\n",
        "plt.plot(input_sizes, recur_times, marker='s', label='Recursive Binary Search')\n",
        "plt.title('Runtime Analysis of Binary Search Algorithms')\n",
        "plt.xlabel('Input Size')\n",
        "plt.ylabel('Runtime (seconds)')\n",
        "plt.legend()\n",
        "plt.grid(True)\n",
        "plt.show()\n"
      ],
      "metadata": {
        "colab": {
          "base_uri": "https://localhost:8080/",
          "height": 755
        },
        "id": "Frcs_Wo0_vAS",
        "outputId": "325c674c-d82e-4fd3-ca65-bda045e87d80"
      },
      "execution_count": null,
      "outputs": [
        {
          "output_type": "stream",
          "name": "stdout",
          "text": [
            "   Ukuran Data  Iterative (detik)  Recursive (detik)\n",
            "0           10           0.000003           0.000002\n",
            "1          100           0.000002           0.000003\n",
            "2          500           0.000002           0.000002\n",
            "3         1000           0.000001           0.000002\n",
            "4         5000           0.000002           0.000002\n",
            "5          150           0.000001           0.000002\n",
            "\n",
            "Kelas Kompleksitas:\n",
            "1. Pencarian Biner Iteratif: O(log n)\n",
            "2. Pencarian Biner Rekursif: O(log n)\n"
          ]
        },
        {
          "output_type": "display_data",
          "data": {
            "text/plain": [
              "<Figure size 1000x600 with 1 Axes>"
            ],
            "image/png": "[encoded data removed]"
          },
          "metadata": {}
        }
      ]
    }
  ]
}